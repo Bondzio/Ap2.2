{
 "cells": [
  {
   "cell_type": "code",
   "execution_count": 9,
   "metadata": {
    "collapsed": false
   },
   "outputs": [],
   "source": [
    "%matplotlib inline\n",
    "import matplotlib.pyplot as plt\n",
    "import numpy as np"
   ]
  },
  {
   "cell_type": "code",
   "execution_count": 113,
   "metadata": {
    "collapsed": false
   },
   "outputs": [
    {
     "name": "stdout",
     "output_type": "stream",
     "text": [
      "chi2= 0.237121299586\n",
      "chi2_red= 0.0395202165976\n",
      "sigma= 1.40204983144 ,Standardfehler= 0.0756054756403\n",
      "Er= 14.1172566624 ,Standardfehler= 0.0588265261434\n",
      " \n",
      "Tabelle:\n",
      " \n",
      "Elt.  |    Z   |     Ea    |     dEa   |     sqrt(Ea)   |  d sqrt(Ea)\n",
      "---------------------------------------------------------------------\n",
      "Fe    |    26  |     6400  |      160  |     80.000000  |    1.000000\n",
      "Mo    |    42  |    17480  |      160  |    132.211951  |    0.605089\n",
      "Ti    |    22  |     4450  |      170  |     66.708320  |    1.274204\n",
      "Zr    |    40  |    15810  |      170  |    125.737822  |    0.676010\n",
      "Zn    |    30  |     8670  |      160  |     93.112835  |    0.859173\n",
      "Ag    |    47  |    21960  |      180  |    148.189068  |    0.607332\n",
      "Cu    |    29  |     8070  |      160  |     89.833179  |    0.890540\n"
     ]
    },
    {
     "data": {
      "image/png": "[encoded data removed]",
      "text/plain": [
       "<matplotlib.figure.Figure at 0x7fb6ed1eff28>"
      ]
     },
     "metadata": {},
     "output_type": "display_data"
    }
   ],
   "source": [
    "#data\n",
    "Z = np.array([26, 42, 22, 40, 30, 47, 29, 28])\n",
    "Ea = np.array([6400, 17480, 4450, 15810, 8670, 21960, 8070, 7490])\n",
    "error_Ea = np.array([160, 160, 170, 170, 160, 180, 160, 160])\n",
    "sq_Ea = np.sqrt(Ea)\n",
    "error_sq_Ea = sq_Ea/2*error_Ea/Ea\n",
    "names = np.array(['Fe', 'Mo', 'Ti', 'Zr', 'Zn', 'Ag', 'Cu', 'Ni'])\n",
    "\n",
    "#Fit\n",
    "def fit_func(z, s, Er):\n",
    "    return np.sqrt(Er)*(z-s)*np.sqrt(3/4)\n",
    "from scipy.optimize import curve_fit\n",
    "popt, pcov=curve_fit(fit_func,Z,sq_Ea,p0=[1,13.6],sigma=error_sq_Ea)\n",
    "\n",
    "#Plot\n",
    "plt.title('Analyse der K$_\\\\alpha$-Energie')\n",
    "plt.xlabel('Kernladungszahl Z')\n",
    "plt.ylabel('Wurzel aus der Energie der K$_\\\\alpha$-Linie in $\\\\sqrt{\\mathrm{eV}}$')\n",
    "#plt.ylim((0,430))\n",
    "plt.errorbar(Z, sq_Ea, yerr=error_sq_Ea, linestyle='None', fmt='.')\n",
    "plt.plot(Z,fit_func(Z,*popt))\n",
    "plt.savefig('figures/Kerladungszahlabhängigkeit_alpha.pdf',format='pdf')\n",
    "\n",
    "#Print\n",
    "chi2_= np.sum((fit_func(Z,*popt)-sq_Ea)**2/error_sq_Ea**2)\n",
    "dof = 6 #degrees of freedom\n",
    "chi2_red=chi2_/dof\n",
    "print(\"chi2=\",chi2_)\n",
    "print(\"chi2_red=\",chi2_red)\n",
    "print(\"sigma=\",popt[0],\",Standardfehler=\",np.sqrt(pcov[0][0]))\n",
    "print(\"Er=\",popt[1],\",Standardfehler=\",np.sqrt(pcov[1][1]))\n",
    "\n",
    "print(' ')\n",
    "print('Tabelle:')\n",
    "print(' ')\n",
    "print('{0:4} {1:3} {2:4} {3:3} {4:7} {5:3} {6:7} {7:3} {8:12} {9:3} {10:10}'.format( \\\n",
    "      'Elt.', ' | ', '  Z', ' | ', '   Ea', ' | ', '   dEa', ' | ', '   sqrt(Ea)', ' | ', 'd sqrt(Ea)'))\n",
    "print('---------------------------------------------------------------------')\n",
    "for x in range(0, 7):\n",
    "    print('{0:4} {1:3} {2:4d} {3:3} {4:7d} {5:3} {6:7d} {7:3} {8:12f} {9:3} {10:10f}'.format( \\\n",
    "          names[x], ' | ', Z[x], ' | ', Ea[x], ' | ', error_Ea[x], ' | ', sq_Ea[x], ' | ', error_sq_Ea[x]))"
   ]
  },
  {
   "cell_type": "code",
   "execution_count": 110,
   "metadata": {
    "collapsed": false
   },
   "outputs": [
    {
     "name": "stdout",
     "output_type": "stream",
     "text": [
      "chi2= 1.00359722688\n",
      "chi2_red= 0.167266204481\n",
      "sigma= 1.82624427841 ,Standardfehler= 0.116257700551\n",
      "Er= 13.6080683942 ,Standardfehler= 0.0886199864392\n",
      " \n",
      "Tabelle:\n",
      " \n",
      "Elt.  |    Z   |     Eb    |     dEb   |     sqrt(Eb)   |  d sqrt(Eb)\n",
      "---------------------------------------------------------------------\n",
      "Fe    |    26  |     7050  |      160  |     83.964278  |    0.952786\n",
      "Mo    |    42  |    19600  |      150  |    140.000000  |    0.535714\n",
      "Ti    |    22  |     4890  |      100  |     69.928535  |    0.715016\n",
      "Zr    |    40  |    17700  |      180  |    133.041347  |    0.676481\n",
      "Zn    |    30  |     9620  |      160  |     98.081599  |    0.815647\n",
      "Ag    |    47  |    24580  |      160  |    156.780101  |    0.510269\n",
      "Cu    |    29  |     8950  |      170  |     94.604440  |    0.898478\n"
     ]
    },
    {
     "data": {
      "image/png": "[encoded data removed]",
      "text/plain": [
       "<matplotlib.figure.Figure at 0x7fb6dd580748>"
      ]
     },
     "metadata": {},
     "output_type": "display_data"
    }
   ],
   "source": [
    "#data\n",
    "Z = np.array([26, 42, 22, 40, 30, 47, 29, 28])\n",
    "Eb = np.array([7050, 19600, 4890, 17700, 9620, 24580, 8950, 8290])\n",
    "error_Eb = np.array([160, 150, 100, 180, 160, 160, 170, 170])\n",
    "sq_Eb = np.sqrt(Eb)\n",
    "error_sq_Eb = sq_Eb/2*error_Eb/Eb\n",
    "\n",
    "#Fit\n",
    "def fit_func(z, s, Er):\n",
    "    return np.sqrt(Er)*(z-s)*np.sqrt(8/9)\n",
    "from scipy.optimize import curve_fit\n",
    "popt, pcov=curve_fit(fit_func,Z,sq_Eb,p0=[1,13.6],sigma=error_sq_Eb)\n",
    "\n",
    "#Plot\n",
    "plt.title('Analyse der K$_\\\\beta$-Energie')\n",
    "plt.xlabel('Kernladungszahl Z')\n",
    "plt.ylabel('Wurzel aus der Energie der K$_\\\\beta$-Linie in $\\\\sqrt{\\mathrm{eV}}$')\n",
    "#plt.ylim((0,430))\n",
    "plt.errorbar(Z, sq_Eb, yerr=error_sq_Eb, linestyle='None', fmt='.')\n",
    "plt.plot(Z,fit_func(Z,*popt))\n",
    "plt.savefig('figures/Kerladungszahlabhängigkeit_beta.pdf',format='pdf')\n",
    "\n",
    "#Print\n",
    "chi2_= np.sum((fit_func(Z,*popt)-sq_Eb)**2/error_sq_Eb**2)\n",
    "dof = 6 #degrees of freedom\n",
    "chi2_red=chi2_/dof\n",
    "print(\"chi2=\",chi2_)\n",
    "print(\"chi2_red=\",chi2_red)\n",
    "print(\"sigma=\",popt[0],\",Standardfehler=\",np.sqrt(pcov[0][0]))\n",
    "print(\"Er=\",popt[1],\",Standardfehler=\",np.sqrt(pcov[1][1]))\n",
    "\n",
    "print(' ')\n",
    "print('Tabelle:')\n",
    "print(' ')\n",
    "print('{0:4} {1:3} {2:4} {3:3} {4:7} {5:3} {6:7} {7:3} {8:12} {9:3} {10:10}'.format( \\\n",
    "      'Elt.', ' | ', '  Z', ' | ', '   Eb', ' | ', '   dEb', ' | ', '   sqrt(Eb)', ' | ', 'd sqrt(Eb)'))\n",
    "print('---------------------------------------------------------------------')\n",
    "for x in range(0, 7):\n",
    "    print('{0:4} {1:3} {2:4d} {3:3} {4:7d} {5:3} {6:7d} {7:3} {8:12f} {9:3} {10:10f}'.format( \\\n",
    "          names[x], ' | ', Z[x], ' | ', Eb[x], ' | ', error_Eb[x], ' | ', sq_Eb[x], ' | ', error_sq_Eb[x]))"
   ]
  },
  {
   "cell_type": "code",
   "execution_count": null,
   "metadata": {
    "collapsed": true
   },
   "outputs": [],
   "source": []
  }
 ],
 "metadata": {
  "kernelspec": {
   "display_name": "Python 3",
   "language": "python",
   "name": "python3"
  },
  "language_info": {
   "codemirror_mode": {
    "name": "ipython",
    "version": 3
   },
   "file_extension": ".py",
   "mimetype": "text/x-python",
   "name": "python",
   "nbconvert_exporter": "python",
   "pygments_lexer": "ipython3",
   "version": "3.6.0"
  }
 },
 "nbformat": 4,
 "nbformat_minor": 2
}
