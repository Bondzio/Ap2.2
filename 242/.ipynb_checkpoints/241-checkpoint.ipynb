{
 "cells": [
  {
   "cell_type": "code",
   "execution_count": 72,
   "metadata": {
    "collapsed": false,
    "scrolled": false
   },
   "outputs": [],
   "source": [
    "%matplotlib inline\n",
    "import matplotlib.pyplot as plt\n",
    "import numpy as np\n",
    "from scipy.optimize import curve_fit"
   ]
  },
  {
   "cell_type": "code",
   "execution_count": 32,
   "metadata": {
    "collapsed": false,
    "scrolled": true
   },
   "outputs": [
    {
     "name": "stdout",
     "output_type": "stream",
     "text": [
      "[  4.61662413e-04   5.04943264e-05   4.61662413e-05   4.76089363e-05]\n",
      "[  4.32808512e-05   4.32808512e-06   4.32808512e-06   4.32808512e-06]\n",
      "[  4.70000000e-04   4.70000000e-05   4.70000000e-05   4.70000000e-05]\n",
      "[  5.25475975e-05   5.25475975e-06   5.25475975e-06   5.25475975e-06]\n",
      "[-0.12247283  0.51329008 -0.12247283  0.08944814]\n"
     ]
    }
   ],
   "source": [
    "#Aufgabe 1\n",
    "C = np.array([470*10**(-9), 4.7*10**(-9), 47*10**(-9), 47*10**(-9)])\n",
    "dC = 0.1 * C\n",
    "R = np.array([1000, 10000, 1000, 1000])\n",
    "dR = 0.05 * R\n",
    "f = 10\n",
    "T12 = np.array([0.32*10**(-3), 0.035*10**(-3), 0.032*10**(-3), 0.033*10**(-3)])\n",
    "dT12 = np.array([0.03*10**(-3), 0.003*10**(-3), 0.003*10**(-3), 0.003*10**(-3)])\n",
    "\n",
    "tau_exp = T12/np.log(2)\n",
    "dtau_exp = tau_exp*dT12/T12\n",
    "tau_theo = R*C\n",
    "dtau_theo = tau_theo*np.sqrt((dR/R)**2+(dC/C)**2)\n",
    "abw = (tau_exp-tau_theo)/(np.sqrt(dtau_exp**2+dtau_theo**2))\n",
    "\n",
    "print(tau_exp)\n",
    "print(dtau_exp)\n",
    "print(tau_theo)\n",
    "print(dtau_theo)\n",
    "print(abw)"
   ]
  },
  {
   "cell_type": "code",
   "execution_count": 13,
   "metadata": {
    "collapsed": false,
    "scrolled": false
   },
   "outputs": [],
   "source": [
    "#Aufgabe 2\n",
    "#Nur diskutieren, nichts rechnen"
   ]
  },
  {
   "cell_type": "code",
   "execution_count": 84,
   "metadata": {
    "collapsed": false,
    "scrolled": false
   },
   "outputs": [
    {
     "name": "stdout",
     "output_type": "stream",
     "text": [
      "R= 988.282004231 ,Standardfehler= 1405711620.4\n",
      "C= 4.76532695985e-08 ,Standardfehler= 0.0677810125975\n",
      "chi2_red= 0.0705292614798\n",
      "3386.2753849339433\n"
     ]
    },
    {
     "data": {
      "image/png": "[encoded data removed]",
      "text/plain": [
       "<matplotlib.figure.Figure at 0x7f0c52e8cc50>"
      ]
     },
     "metadata": {},
     "output_type": "display_data"
    }
   ],
   "source": [
    "#Aufgabe 3\n",
    "dt = np.array([200, 80, 45, 28, 18.8, 14, 10, 8, 7, 6])*10**(-6)\n",
    "ddt = np.array([10, 10, 5, 5, 3, 2, 2, 2, 2, 2])*10**(-6)\n",
    "f = np.array([1,2,3,4,5,6,7,8,9,10])*1000\n",
    "\n",
    "R=1000\n",
    "C=47*10**(-9)\n",
    "\n",
    "phi = f*dt*360\n",
    "dphi = phi*ddt/dt\n",
    "\n",
    "#Plot\n",
    "plt.title('Phasengang eines RC-Glieds')\n",
    "plt.xlabel('Frequenz in Hz')\n",
    "plt.ylabel('Phasenwinkel in °')\n",
    "plt.yscale('log')\n",
    "plt.errorbar(f, phi, yerr=dphi, linestyle='None', fmt='.', label='Messdaten')\n",
    "plt.plot(np.array([0,10000]),np.array([45,45]), label='45°')\n",
    "plt.savefig('figures/Aufgabe3_Phasengang.pdf',format='pdf')\n",
    "\n",
    "#Fit\n",
    "#def fit_func(f, a, b, c):\n",
    "#    return a*np.exp(f*b+c)\n",
    "#from scipy.optimize import curve_fit\n",
    "#popt, pcov=curve_fit(fit_func,f[0:f.size-3],phi[0:phi.size-3],p0=[1,-0.0001,1],sigma=dphi[0:dphi.size-3])\n",
    "\n",
    "#print(\"a=\",popt[0],\",Standardfehler=\",np.sqrt(pcov[0][0]))\n",
    "#print(\"b=\",popt[1],\",Standardfehler=\",np.sqrt(pcov[1][1]))\n",
    "#print(\"c=\",popt[2],\",Standardfehler=\",np.sqrt(pcov[2][2]))\n",
    "\n",
    "#plt.plot(f,fit_func(f,*popt))\n",
    "\n",
    "#Fit2\n",
    "def fit_func2(f, r, c):\n",
    "    return np.arctan(1/(2*np.pi*f*r*c))*180/np.pi\n",
    "popt, pcov=curve_fit(fit_func2,f,phi,p0=[1000,47*10**(-9)],sigma=dphi)\n",
    "\n",
    "plt.plot(f,fit_func2(f,*popt), label='Fit')\n",
    "#plt.plot(f,np.arctan(1/(2*np.pi*f*R*C))*180/np.pi, label='Fit')\n",
    "plt.legend(loc='best',prop={'size':10}) #Legendengroesse\n",
    "plt.savefig('figures/Aufgabe3_Phasengang.pdf',format='pdf')\n",
    "\n",
    "print(\"R=\",popt[0],\",Standardfehler=\",np.sqrt(pcov[0][0]))\n",
    "print(\"C=\",popt[1],\",Standardfehler=\",np.sqrt(pcov[1][1]))\n",
    "\n",
    "chi2_= np.sum((fit_func2(f,*popt)-phi)**2/dphi**2)\n",
    "dof = len(phi)-2 #degrees of freedom\n",
    "chi2_red=chi2_/dof\n",
    "#print(\"chi2=\",chi2_)\n",
    "print(\"chi2_red=\",chi2_red)\n",
    "\n",
    "#Daraus ergibt sich eine Grenzfrequenz von f=3379.69Hz+-200\n",
    "\n",
    "fgr_theo = 1/(1000*47*10**(-9))/(2*np.pi)\n",
    "print(fgr_theo)\n",
    "\n",
    "#gemessen:\n",
    "#Hochpass: 3400+-300\n",
    "#Tiefpass: 3200+-300"
   ]
  },
  {
   "cell_type": "code",
   "execution_count": 83,
   "metadata": {
    "collapsed": false,
    "scrolled": false
   },
   "outputs": [
    {
     "name": "stdout",
     "output_type": "stream",
     "text": [
      "L1:  [ 0.03129293  0.0330202   0.03402329]\n",
      "dL1: [ 0.00312929  0.00330202  0.00340233]\n",
      "Rv:  [ 83.37218005  82.90915486  87.6780064 ]\n",
      "dRv: [ 119.31870266   32.22637989   13.67128941]\n",
      "Rv:  [ 42.34527687  53.12414734  71.1871345 ]\n"
     ]
    }
   ],
   "source": [
    "#Aufgabe 4\n",
    "#Erklärung für Unterschied finden + Fehlerbetrachtung\n",
    "\n",
    "C  = 47*10**(-9)\n",
    "dC = 0.1*C\n",
    "R  = np.array([1000, 220, 47])\n",
    "dR = 0.05*R\n",
    "wr = 2*np.pi*np.array([4.15, 4.04, 3.98])*1000\n",
    "dwr= 2*np.pi*100\n",
    "dw = 2*np.pi*np.array([5.51, 1.46, 0.63])*1000\n",
    "#dw ohne Fehler!\n",
    "Ue = np.array([0.96, 0.91, 0.86])\n",
    "Ua = np.array([0.921, 0.733, 0.342])\n",
    "\n",
    "L1 = 1/((wr)**2*C) \n",
    "dL1 = L1*(dC/C)\n",
    "print('L1: ',L1)\n",
    "print('dL1:',dL1)\n",
    "\n",
    "rprv = dw * L1\n",
    "drprv= rprv*(dL1/L1)\n",
    "Rv   =rprv-R\n",
    "dRv  = np.sqrt(dR**2+(dw*dL1)**2)\n",
    "print('Rv: ',Rv)\n",
    "print('dRv:',dRv)\n",
    "\n",
    "rv = (R * Ue/Ua)-R\n",
    "print('Rv: ',rv)"
   ]
  },
  {
   "cell_type": "code",
   "execution_count": 75,
   "metadata": {
    "collapsed": false,
    "scrolled": false
   },
   "outputs": [
    {
     "name": "stdout",
     "output_type": "stream",
     "text": [
      "L1: 0.031043086052120514\n",
      "dL1 0.00404090421296\n",
      "Lambda: [ 0.48884672  0.49643689  0.49899117  0.43531807]\n",
      "dLambda: [ 0.06375576  0.10452571  0.17204138  0.27070129]\n",
      "Rv: [ 79.46092253  81.42444151  82.08521424  65.61346955]\n",
      "dRv: [ 24.00608482  32.32305366  47.93289282  71.73839313]\n",
      "Mittelwert von Rv= 79.5605215008 , Standardfehler= 2.0991655198\n"
     ]
    }
   ],
   "source": [
    "#Aufgabe 5\n",
    "\n",
    "C = 47*10**(-9)\n",
    "dC= 0.1*C\n",
    "R = 47\n",
    "dR= 0.05*R\n",
    "\n",
    "A = np.array([1.5, 0.92, 0.56, 0.34, 0.22])\n",
    "dA= 0.05\n",
    "T = 0.24 * 10**(-3)\n",
    "dT= 0.01 * 10**(-3)\n",
    "\n",
    "wr = 2*np.pi/T\n",
    "dwr = wr*dT/T\n",
    "L1 = 1/((wr)**2*C) \n",
    "dL1 = L1*np.sqrt((2*dwr/wr)**2+(dC/C)**2)\n",
    "print('L1:', L1)\n",
    "print('dL1', dL1)\n",
    "\n",
    "Lambda = np.log(np.array([A[0]/A[1], A[1]/A[2], A[2]/A[3], A[3]/A[4]]))\n",
    "dLambda= dA*np.array([np.sqrt((1/A[0])**2+(1/A[1])**2), np.sqrt((1/A[1])**2+(1/A[2])**2), np.sqrt((1/A[2])**2+(1/A[3])**2), np.sqrt((1/A[3])**2+(1/A[4])**2)])\n",
    "print('Lambda:', Lambda)\n",
    "print('dLambda:', dLambda)\n",
    "\n",
    "delta = Lambda/T\n",
    "ddelta= delta*np.sqrt((dLambda/Lambda)**2+(dT/T)**2)\n",
    "\n",
    "Rges = delta*2*L1\n",
    "dRges = Rges*np.sqrt((ddelta/delta)**2+(dL1/L1)**2)\n",
    "\n",
    "Rv = Rges-R\n",
    "dRv= np.sqrt(dRges**2+dR**2)\n",
    "\n",
    "print('Rv:', Rv)\n",
    "print('dRv:', dRv)\n",
    "\n",
    "def fit_func(r1,r):\n",
    "    return r\n",
    "popt, pcov=curve_fit(fit_func,Rv,Rv,p0=[80],sigma=dRv)\n",
    "print(\"Mittelwert von Rv=\",popt[0],\", Standardfehler=\",np.sqrt(pcov[0][0]))"
   ]
  },
  {
   "cell_type": "code",
   "execution_count": 28,
   "metadata": {
    "collapsed": false,
    "scrolled": false
   },
   "outputs": [
    {
     "name": "stdout",
     "output_type": "stream",
     "text": [
      "Theoretisch: 25785.5311565 25326.7424281 27006.193864\n",
      "Experimentell: 26075.219024795286 25384.068641005528 27331.856086231197\n"
     ]
    }
   ],
   "source": [
    "#Aufgabe 6\n",
    "\n",
    "C = 47*10**(-9)\n",
    "R = 220\n",
    "Rv = 80 #check again for exact value\n",
    "L1 = 0.032 #check again for exact value\n",
    "\n",
    "delta = (R+Rv)/(2*L1)\n",
    "wr_theo = 1/np.sqrt(L1*C)\n",
    "wc_theo = np.sqrt(wr**2-2*delta**2)\n",
    "wl_theo = np.sqrt(wr**2+2*delta**2)\n",
    "\n",
    "wr_ex = 2*np.pi*4.15*1000\n",
    "wc_ex = 2*np.pi*4.04*1000\n",
    "wl_ex = 2*np.pi*4.35*1000\n",
    "\n",
    "print('Theoretisch:', wr_theo, wc_theo, wl_theo)\n",
    "print('Experimentell:',wr_ex, wc_ex, wl_ex)"
   ]
  },
  {
   "cell_type": "code",
   "execution_count": 30,
   "metadata": {
    "collapsed": false,
    "scrolled": false
   },
   "outputs": [
    {
     "name": "stdout",
     "output_type": "stream",
     "text": [
      "Theoretisch: 25785.5311565\n",
      "Experimentell: 26389.37829015426\n"
     ]
    }
   ],
   "source": [
    "#Aufgabe 7\n",
    "C = 47*10**(-9)\n",
    "R = 1000\n",
    "Rv = 80 #check again for exact value\n",
    "L1 = 0.032 #check again for exact value\n",
    "\n",
    "w_theo = 1/np.sqrt(L1*C)\n",
    "\n",
    "w_ex = 2*np.pi*4.2*1000\n",
    "\n",
    "print('Theoretisch:', w_theo)\n",
    "print('Experimentell:',w_ex)"
   ]
  },
  {
   "cell_type": "code",
   "execution_count": 31,
   "metadata": {
    "collapsed": true,
    "scrolled": false
   },
   "outputs": [],
   "source": [
    "#Aufgabe 8\n",
    "\n",
    "#hauptsächlich diskutieren"
   ]
  },
  {
   "cell_type": "code",
   "execution_count": null,
   "metadata": {
    "collapsed": false,
    "scrolled": false
   },
   "outputs": [],
   "source": []
  },
  {
   "cell_type": "code",
   "execution_count": null,
   "metadata": {
    "collapsed": true
   },
   "outputs": [],
   "source": []
  }
 ],
 "metadata": {
  "kernelspec": {
   "display_name": "Python 3",
   "language": "python",
   "name": "python3"
  },
  "language_info": {
   "codemirror_mode": {
    "name": "ipython",
    "version": 3
   },
   "file_extension": ".py",
   "mimetype": "text/x-python",
   "name": "python",
   "nbconvert_exporter": "python",
   "pygments_lexer": "ipython3",
   "version": "3.6.0"
  }
 },
 "nbformat": 4,
 "nbformat_minor": 2
}
