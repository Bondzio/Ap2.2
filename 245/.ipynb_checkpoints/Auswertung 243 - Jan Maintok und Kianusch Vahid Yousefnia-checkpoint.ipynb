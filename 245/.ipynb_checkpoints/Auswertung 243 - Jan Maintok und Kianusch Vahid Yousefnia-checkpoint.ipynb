{
 "cells": [
  {
   "cell_type": "code",
   "execution_count": 1,
   "metadata": {
    "collapsed": true
   },
   "outputs": [],
   "source": [
    "%matplotlib inline\n",
    "import numpy as np\n",
    "import matplotlib.pyplot as plt"
   ]
  },
  {
   "cell_type": "code",
   "execution_count": 2,
   "metadata": {
    "collapsed": true
   },
   "outputs": [],
   "source": [
    "# Auswertung des Frequenzganges"
   ]
  },
  {
   "cell_type": "code",
   "execution_count": 3,
   "metadata": {
    "collapsed": false
   },
   "outputs": [],
   "source": [
    "f, U_aus = np.loadtxt('data/Bandpassspektrum.txt', skiprows = 1, usecols = (0, 1), unpack = True)"
   ]
  },
  {
   "cell_type": "code",
   "execution_count": 4,
   "metadata": {
    "collapsed": false
   },
   "outputs": [],
   "source": [
    "D = 1e-3\n",
    "U_ein = 0.2\n",
    "g = U_aus / (U_ein * D)\n",
    "f=f[15:-44]\n",
    "g=g[15:-44]"
   ]
  },
  {
   "cell_type": "code",
   "execution_count": 5,
   "metadata": {
    "collapsed": false
   },
   "outputs": [
    {
     "data": {
      "text/plain": [
       "<matplotlib.text.Text at 0x7f69fb981630>"
      ]
     },
     "execution_count": 5,
     "metadata": {},
     "output_type": "execute_result"
    },
    {
     "data": {
      "image/png": "[encoded data removed]",
      "text/plain": [
       "<matplotlib.figure.Figure at 0x7f69fecb3128>"
      ]
     },
     "metadata": {},
     "output_type": "display_data"
    }
   ],
   "source": [
    "plt.loglog(f, g, linestyle = 'None', marker = '.')\n",
    "#plt.axis([4E2, 1.5e5, 10, 1.5E3])\n",
    "plt.xlabel('Frequenz / Hz')\n",
    "plt.ylabel('g(f)')\n",
    "plt.title('Frequenzgang')"
   ]
  },
  {
   "cell_type": "code",
   "execution_count": 6,
   "metadata": {
    "collapsed": false
   },
   "outputs": [],
   "source": [
    "from scipy.optimize import curve_fit\n",
    "def fit_func(f, V, W1, W2, n1, n2):\n",
    "    return V/(np.sqrt(1+1/(f/W1)**(2*n1)) * np.sqrt(1+(f/W2)**(2*n2)))"
   ]
  },
  {
   "cell_type": "code",
   "execution_count": 7,
   "metadata": {
    "collapsed": false
   },
   "outputs": [],
   "source": [
    "p0 = [1000, 1000, 50000, 5, 5]\n",
    "popt, pcov = curve_fit(fit_func, f, g, p0)"
   ]
  },
  {
   "cell_type": "code",
   "execution_count": 8,
   "metadata": {
    "collapsed": false
   },
   "outputs": [
    {
     "data": {
      "image/png": "[encoded data removed]",
      "text/plain": [
       "<matplotlib.figure.Figure at 0x7f6a26087390>"
      ]
     },
     "metadata": {},
     "output_type": "display_data"
    }
   ],
   "source": [
    "plt.loglog(f, g, linestyle = 'None', marker = '.', label = 'Messdaten')\n",
    "plt.loglog(f, fit_func(f, *popt), label = 'Fit')\n",
    "#plt.axis([4E2, 1.5e5, 10, 1.5E3])\n",
    "plt.xlabel('Frequenz / Hz')\n",
    "plt.ylabel('g(f)')\n",
    "plt.title('Frequenzgang')\n",
    "plt.legend(loc = 'best')\n",
    "plt.savefig('figures/Frequenzgang.pdf', format = 'pdf', bbox_inches = 'tight')"
   ]
  },
  {
   "cell_type": "code",
   "execution_count": 9,
   "metadata": {
    "collapsed": false
   },
   "outputs": [
    {
     "name": "stdout",
     "output_type": "stream",
     "text": [
      "1034.31783405 0.896055525804\n",
      "1027.43231589 1.61248632433\n",
      "46329.7644916 73.5724638899\n",
      "5.06866732499 0.0430286261758\n"
     ]
    }
   ],
   "source": [
    "for n in range(0,4):\n",
    "    print(popt[n], np.sqrt(pcov[n][n]))"
   ]
  },
  {
   "cell_type": "code",
   "execution_count": 10,
   "metadata": {
    "collapsed": true
   },
   "outputs": [],
   "source": [
    "# Numerische Integration des Frequenzganges"
   ]
  },
  {
   "cell_type": "code",
   "execution_count": 11,
   "metadata": {
    "collapsed": true
   },
   "outputs": [],
   "source": [
    "import scipy.integrate as integrate"
   ]
  },
  {
   "cell_type": "code",
   "execution_count": 12,
   "metadata": {
    "collapsed": false
   },
   "outputs": [
    {
     "name": "stdout",
     "output_type": "stream",
     "text": [
      "Das Integral beträgt: 4.9397e+10\n"
     ]
    }
   ],
   "source": [
    "def fit_func_square (f, V, W1, W2, n1, n2):\n",
    "    return fit_func(f, V, W1, W2, n1, n2)**2\n",
    "B = integrate.quad(fit_func_square, f[0], f[-1], args = tuple(popt))\n",
    "print('Das Integral beträgt: {value:.4e}'.format(value = B[0]))"
   ]
  },
  {
   "cell_type": "code",
   "execution_count": 13,
   "metadata": {
    "collapsed": true
   },
   "outputs": [],
   "source": [
    "# Bestimmung der Boltzmannkonstante"
   ]
  },
  {
   "cell_type": "code",
   "execution_count": 14,
   "metadata": {
    "collapsed": false
   },
   "outputs": [
    {
     "data": {
      "text/plain": [
       "<Container object of 3 artists>"
      ]
     },
     "execution_count": 14,
     "metadata": {},
     "output_type": "execute_result"
    },
    {
     "data": {
      "image/png": "[encoded data removed]",
      "text/plain": [
       "<matplotlib.figure.Figure at 0x7f69f4e35d30>"
      ]
     },
     "metadata": {},
     "output_type": "display_data"
    }
   ],
   "source": [
    "R = np.arange(5, 35, 5) * 1e3\n",
    "U_aus = np.array([2.4357, 3.1498, 3.7354, 4.2499, 4.7074, 5.1267])/1000\n",
    "fehler_U_aus = np.array([98.1, 114, 149, 176, 211, 212])/10000/1000/10\n",
    "U_V = 1.3872/1000\n",
    "fehler_U_V = 0.0158/1000/10\n",
    "D = U_aus**2 - U_V**2\n",
    "fehler_D =2 * np.sqrt((fehler_U_aus*U_aus)**2 + (fehler_U_V*U_V)**2)\n",
    "plt.xlabel('Widerstand / $\\\\Omega$')\n",
    "plt.ylabel('$U^2_{\\\\mathrm{aus}} - U^2_{\\\\mathrm{V}}$ / $\\\\mathrm{V^2}$')\n",
    "plt.title('Widerstandsabhängigkeit der Rauschspannung')\n",
    "plt.errorbar(R, D, yerr = fehler_D, fmt = '.')\n",
    "#plt.axis([0, 3.2e4, 0, 25])"
   ]
  },
  {
   "cell_type": "code",
   "execution_count": 15,
   "metadata": {
    "collapsed": false
   },
   "outputs": [],
   "source": [
    "def linear(x, c):\n",
    "    return c*x\n",
    "popt, pcov = curve_fit(linear, R, D, p0 = [1], sigma = fehler_D)"
   ]
  },
  {
   "cell_type": "code",
   "execution_count": 16,
   "metadata": {
    "collapsed": false
   },
   "outputs": [
    {
     "name": "stdout",
     "output_type": "stream",
     "text": [
      "8.05951883762e-10 +- 2.03436544622e-12\n"
     ]
    }
   ],
   "source": [
    "slope = popt[0]\n",
    "slope_error = np.sqrt(pcov[0][0])\n",
    "print(slope, '+-', slope_error)"
   ]
  },
  {
   "cell_type": "code",
   "execution_count": 17,
   "metadata": {
    "collapsed": false
   },
   "outputs": [
    {
     "name": "stdout",
     "output_type": "stream",
     "text": [
      "177.252822625\n",
      "35.450564525\n"
     ]
    }
   ],
   "source": [
    "chisquare = np.sum(((linear(R, *popt) - D)**2/fehler_D**2))\n",
    "dof = len(R) - 1\n",
    "chisquare_red = chisquare/dof\n",
    "print(chisquare)\n",
    "print(chisquare_red)"
   ]
  },
  {
   "cell_type": "code",
   "execution_count": 18,
   "metadata": {
    "collapsed": false
   },
   "outputs": [
    {
     "name": "stdout",
     "output_type": "stream",
     "text": [
      "Wahrscheinlichkeit=0.0%\n"
     ]
    }
   ],
   "source": [
    "from scipy.stats import chi2\n",
    "prob = round(1-chi2.cdf(chisquare, dof), 2)*100\n",
    "print(\"Wahrscheinlichkeit=\" + str(prob) + \"%\")"
   ]
  },
  {
   "cell_type": "code",
   "execution_count": 19,
   "metadata": {
    "collapsed": false
   },
   "outputs": [
    {
     "data": {
      "image/png": "[encoded data removed]",
      "text/plain": [
       "<matplotlib.figure.Figure at 0x7f69f477c278>"
      ]
     },
     "metadata": {},
     "output_type": "display_data"
    }
   ],
   "source": [
    "plt.xlabel('Widerstand / $\\\\Omega$')\n",
    "plt.ylabel('$U^2_{\\\\mathrm{aus}} - U^2_{\\\\mathrm{V}}$ / $\\\\mathrm{V^2}$')\n",
    "plt.title('Widerstandsabhängigkeit der Rauschspannung')\n",
    "x = np.arange(5000, 30000, 1)\n",
    "plt.plot(x, linear(x, *popt), label = 'Fitfunktion: $cx$')\n",
    "plt.errorbar(R, D, yerr = fehler_D, fmt = '.', label='Messdaten')\n",
    "plt.legend(loc = 'best')\n",
    "label =  'c = ({value1:.2e} +- {value2:.2e})$V^2/\\\\Omega$'.format(value1 = slope, value2 = slope_error)\n",
    "plt.text(5500, .000017, label)\n",
    "plt.savefig('figures/Widerstand.pdf', format = 'pdf', bbox_inches = 'tight')"
   ]
  },
  {
   "cell_type": "code",
   "execution_count": 20,
   "metadata": {
    "collapsed": false
   },
   "outputs": [
    {
     "name": "stdout",
     "output_type": "stream",
     "text": [
      "1.37130698587e-23 +- 4.15871989963e-26 (stat) +- 2.74261397173e-25 (syst)\n"
     ]
    }
   ],
   "source": [
    "T = 273.15 + 24.3\n",
    "T_error = 0.5\n",
    "k = slope/(4*T*B[0])\n",
    "k_error_stat = k * np.sqrt((slope_error/slope)**2 + (T_error/T)**2)\n",
    "k_error_syst = k * 0.02\n",
    "print(k, '+-', k_error_stat, '(stat)', '+-', k_error_syst, '(syst)')"
   ]
  },
  {
   "cell_type": "code",
   "execution_count": null,
   "metadata": {
    "collapsed": true
   },
   "outputs": [],
   "source": [
    "                                                             "
   ]
  }
 ],
 "metadata": {
  "kernelspec": {
   "display_name": "Python 3",
   "language": "python",
   "name": "python3"
  },
  "language_info": {
   "codemirror_mode": {
    "name": "ipython",
    "version": 3
   },
   "file_extension": ".py",
   "mimetype": "text/x-python",
   "name": "python",
   "nbconvert_exporter": "python",
   "pygments_lexer": "ipython3",
   "version": "3.6.0"
  }
 },
 "nbformat": 4,
 "nbformat_minor": 2
}
