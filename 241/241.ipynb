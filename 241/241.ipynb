{
 "cells": [
  {
   "cell_type": "markdown",
   "metadata": {},
   "source": [
    "Python-Protokoll V 241: Tobias Abele und Thimo Preis\n",
    "=="
   ]
  },
  {
   "cell_type": "code",
   "execution_count": 1,
   "metadata": {
    "collapsed": false,
    "scrolled": false
   },
   "outputs": [],
   "source": [
    "%matplotlib inline\n",
    "import matplotlib.pyplot as plt\n",
    "import numpy as np\n",
    "from scipy.optimize import curve_fit"
   ]
  },
  {
   "cell_type": "code",
   "execution_count": 2,
   "metadata": {
    "collapsed": false,
    "scrolled": true
   },
   "outputs": [
    {
     "name": "stdout",
     "output_type": "stream",
     "text": [
      "Gemessene Zeit = [  3.75100711e-04   5.04943264e-05   6.05931917e-05   4.90516314e-05]\n",
      "Fehler gemessene Zeit= [  4.32808512e-05   4.32808512e-06   4.32808512e-06   4.32808512e-06]\n",
      "Theoretische Zeit= [  4.70000000e-04   4.70000000e-05   4.70000000e-05   4.70000000e-05]\n",
      "Fehler der theoretischen Zeit= [  5.25475975e-05   5.25475975e-06   5.25475975e-06   5.25475975e-06]\n",
      "Sigma Abweichung des theoretischen und experimentellen Taus [-1.39399866  0.51329008  1.99673688  0.30136911]\n"
     ]
    }
   ],
   "source": [
    "#Aufgabe 1\n",
    "C = np.array([470e-9, 4.7e-9, 47e-9, 47e-9]) # Farrad\n",
    "dC = 0.1 * C\n",
    "R = np.array([1000, 10000, 1000, 1000])\n",
    "\n",
    "dR = 0.05 * R\n",
    "f = 500\n",
    "T12 = np.array([0.26*10**(-3), 0.035*10**(-3), 0.042*10**(-3), 0.034*10**(-3)])\n",
    "dT12 = np.array([0.03*10**(-3), 0.003*10**(-3), 0.003*10**(-3), 0.003*10**(-3)])\n",
    "\n",
    "tau_exp = T12/np.log(2)\n",
    "dtau_exp = tau_exp*dT12/T12\n",
    "tau_theo = R*C\n",
    "dtau_theo = tau_theo*np.sqrt((dR/R)**2+(dC/C)**2)\n",
    "abw = (tau_exp-tau_theo)/(np.sqrt(dtau_exp**2+dtau_theo**2))\n",
    "\n",
    "print(\"Gemessene Zeit =\",tau_exp)\n",
    "print(\"Fehler gemessene Zeit=\", dtau_exp)\n",
    "print(\"Theoretische Zeit=\",tau_theo)\n",
    "print(\"Fehler der theoretischen Zeit=\",dtau_theo)\n",
    "print(\"Sigma Abweichung des theoretischen und experimentellen Taus\", abw)"
   ]
  },
  {
   "cell_type": "code",
   "execution_count": 3,
   "metadata": {
    "collapsed": false,
    "scrolled": false
   },
   "outputs": [],
   "source": [
    "#Aufgabe 2\n",
    "#Nur diskutieren, nichts rechnen\n",
    "#siehe Auswertung"
   ]
  },
  {
   "cell_type": "code",
   "execution_count": 4,
   "metadata": {
    "collapsed": false,
    "scrolled": false
   },
   "outputs": [
    {
     "name": "stdout",
     "output_type": "stream",
     "text": [
      "R= 967.604043868 ,Standardfehler= 15070653383.2\n",
      "C= 3.82788974739e-08 ,Standardfehler= 0.596202547287\n",
      "chi2_red= 0.507015437806\n",
      "Grenzfrequenz aus fit 4296.97707218 +- 200\n",
      "Theoretische Grenzfrequenz 3386.2753849339433\n",
      "Fehler der theoretischen Grenzfrequenz 378.597097562\n",
      "Abweichung zwischen theoretischer und gefitteter Grenzfrequenz 2.12692681631 $\\sigma $\n",
      "MESSWERT:Hochpass: 3400+-200\n",
      "MESSWERT:Tiefpass: 3000+-200\n",
      "Phasengang [ 73.44   59.76   51.84   44.64   38.88   37.152  32.76   32.832  31.104\n",
      "  28.08 ]\n",
      "Fehler Phasengang [ 3.6   7.2   5.4   7.2   5.4   4.32  5.04  5.76  6.48  7.2 ]\n"
     ]
    },
    {
     "data": {
      "image/png": "[encoded data removed]",
      "text/plain": [
       "<matplotlib.figure.Figure at 0x839be10>"
      ]
     },
     "metadata": {},
     "output_type": "display_data"
    }
   ],
   "source": [
    "#Aufgabe 3\n",
    "dt = np.array([204, 83, 48, 31, 21.6, 17.2, 13, 11.4, 9.6, 7.8])*10**(-6)\n",
    "ddt = np.array([10, 10, 5, 5, 3, 2, 2, 2, 2, 2])*10**(-6)\n",
    "f = np.array([1,2,3,4,5,6,7,8,9,10])*1000\n",
    "\n",
    "R = 1000\n",
    "dR= 0.05*R # Fehler aus Skript\n",
    "C = 47*10**(-9)\n",
    "dC= 0.1*C # Fehler aus Skript\n",
    "\n",
    "phi = f*dt*360\n",
    "dphi = phi*ddt/dt\n",
    "\n",
    "#Plot\n",
    "plt.title('Abb.1: Phasengang eines RC-Glieds')\n",
    "plt.xlabel('Frequenz in Hz')\n",
    "plt.ylabel('Phasenwinkel in °')\n",
    "plt.yscale('log')\n",
    "plt.errorbar(f, phi, yerr=dphi, linestyle='None', fmt='.', label='Messdaten')\n",
    "plt.plot(np.array([0,10000]),np.array([45,45]), label='45°')\n",
    "plt.savefig('figures/Aufgabe3_Phasengang.pdf',format='pdf')\n",
    "\n",
    "#Fit2\n",
    "def fit_func2(f, r, c):\n",
    "    return np.arctan(1/(2*np.pi*f*r*c))*180/np.pi\n",
    "popt, pcov=curve_fit(fit_func2,f,phi,p0=[1000,47*10**(-9)],sigma=dphi)\n",
    "\n",
    "plt.plot(f,fit_func2(f,*popt), label='Fit')\n",
    "#plt.plot(f,np.arctan(1/(2*np.pi*f*R*C))*180/np.pi, label='Fit')\n",
    "plt.legend(loc='best',prop={'size':10}) #Legendengroesse\n",
    "plt.savefig('figures/Aufgabe3_Phasengang.pdf',format='pdf')\n",
    "\n",
    "print(\"R=\",popt[0],\",Standardfehler=\",np.sqrt(pcov[0][0]))\n",
    "print(\"C=\",popt[1],\",Standardfehler=\",np.sqrt(pcov[1][1]))\n",
    "\n",
    "chi2_= np.sum((fit_func2(f,*popt)-phi)**2/dphi**2)\n",
    "dof = len(phi)-2 #degrees of freedom\n",
    "chi2_red=chi2_/dof\n",
    "print(\"chi2_red=\",chi2_red)\n",
    "fgr_fit = 1/(2*np.pi*popt[0]*popt[1]*np.tan(45* np.pi/180))\n",
    "dfgr_fit = 200\n",
    "print(\"Grenzfrequenz aus fit\", fgr_fit, \"+-\", dfgr_fit)\n",
    "#Daraus ergibt sich eine Grenzfrequenz von f=4296.98z+-200\n",
    "\n",
    "fgr_theo = 1/(1000*47*10**(-9))/(2*np.pi)\n",
    "dfgr_theo= fgr_theo*np.sqrt((dC/C)**2+(dR/R)**2)\n",
    "print(\"Theoretische Grenzfrequenz\",fgr_theo)\n",
    "print(\"Fehler der theoretischen Grenzfrequenz\",dfgr_theo)\n",
    "\n",
    "abwgrenzfrequenz = (fgr_fit-fgr_theo)/(np.sqrt(dfgr_theo**2+dfgr_fit**2))\n",
    "print(\"Abweichung zwischen theoretischer und gefitteter Grenzfrequenz\", abwgrenzfrequenz, \"$\\sigma $\")\n",
    "#gemessen:\n",
    "print(\"MESSWERT:Hochpass: 3400+-200\")\n",
    "print(\"MESSWERT:Tiefpass: 3000+-200\")\n",
    "print(\"Phasengang\", phi)\n",
    "print(\"Fehler Phasengang\", dphi)"
   ]
  },
  {
   "cell_type": "code",
   "execution_count": 5,
   "metadata": {
    "collapsed": false,
    "scrolled": false
   },
   "outputs": [
    {
     "name": "stdout",
     "output_type": "stream",
     "text": [
      "L1:  [ 0.0402328   0.04527977  0.04607764]\n",
      "dL1: [ 0.00458478  0.00523381  0.00533782]\n",
      "Mittelwert von L1= 0.0435000733964 , Standardfehler= 0.00189580059952\n",
      "Verlustwiderstand über dw\n",
      "Rv:  [-218.87851687   90.10629444  126.70859674]\n",
      "dRv: [ 102.09530621   37.49450644   20.25986932]\n",
      "Verlustwiderstand über die Spannung\n",
      "Rv:  [  65.93406593   80.56338028  100.06451613]\n",
      "dRv: [ 3.2967033   4.02816901  5.00322581]\n",
      "Abweichungen zwischen den beiden Methoden [-2.7882204   0.25305879  1.27676029]\n"
     ]
    }
   ],
   "source": [
    "#Aufgabe 4\n",
    "\n",
    "C  = 47*10**(-9)\n",
    "dC = 0.1*C\n",
    "R  = np.array([1000, 220, 47])\n",
    "dR = 0.05*R\n",
    "wr = 2*np.pi*np.array([3.66, 3.45, 3.42])*1000\n",
    "dwr= 2*np.pi*100#theoretischer Fehler\n",
    "dw = 2*np.pi*np.array([3.09, 1.09, 0.6])*1000\n",
    "#dw ohne Fehler!\n",
    "Ue = np.array([0.97, 0.97, 0.97])\n",
    "Ua = np.array([0.91, 0.71, 0.31])\n",
    "\n",
    "L1 = 1/((wr)**2*C) \n",
    "dL1= L1*np.sqrt((dC/C)**2+(2*dwr/wr)**2)\n",
    "print('L1: ',L1)\n",
    "print('dL1:',dL1)\n",
    "\n",
    "def fit_func(l1,l):\n",
    "    return l\n",
    "popt, pcov=curve_fit(fit_func,L1,L1,p0=[0.03],sigma=dL1)\n",
    "print(\"Mittelwert von L1=\",popt[0],\", Standardfehler=\",np.sqrt(pcov[0][0]))\n",
    "L=popt[0]\n",
    "dL=np.sqrt(pcov[0][0])\n",
    "\n",
    "rprv = dw * L1\n",
    "drprv= rprv*(dL1/L1)\n",
    "Rv   =rprv-R\n",
    "dRv  = np.sqrt(dR**2+(dw*dL1)**2)\n",
    "print(\"Verlustwiderstand über dw\")\n",
    "print('Rv: ',Rv)\n",
    "print('dRv:',dRv)\n",
    "print(\"Verlustwiderstand über die Spannung\")\n",
    "rv = R*(Ue/Ua-1)\n",
    "drv= rv*dR/R\n",
    "print('Rv: ',rv)\n",
    "print('dRv:',drv)\n",
    "\n",
    "delta=(Rv-rv)/(np.sqrt(dRv**2+drv**2))\n",
    "print(\"Abweichungen zwischen den beiden Methoden\",delta)"
   ]
  },
  {
   "cell_type": "code",
   "execution_count": 6,
   "metadata": {
    "collapsed": false,
    "scrolled": false
   },
   "outputs": [
    {
     "name": "stdout",
     "output_type": "stream",
     "text": [
      "L1: 0.042253089348719595\n",
      "dL1 0.00519249740164\n",
      "Lambda: [ 0.40191271  0.43242092  0.37320425  0.40546511]\n",
      "dLambda: [ 0.03199915  0.04885683  0.07226853  0.10730807]\n",
      "Rv: [ 74.30038213  83.50799778  65.63594534  75.37252458]\n",
      "dRv: [ 18.43277847  22.40304527  26.24939497  36.05074968]\n",
      "Mittelwert von Rv= 75.2220451641 , Standardfehler= 3.56384083197\n"
     ]
    }
   ],
   "source": [
    "#Aufgabe 5\n",
    "\n",
    "C = 47*10**(-9)\n",
    "dC= 0.1*C\n",
    "R = 47\n",
    "dR= 0.05*R\n",
    "\n",
    "A = np.array([2.81, 1.88, 1.22, 0.84, 0.56])\n",
    "dA= 0.05\n",
    "T = 0.28 * 10**(-3)\n",
    "dT= 0.01 * 10**(-3)\n",
    "\n",
    "wr = 2*np.pi/T\n",
    "dwr = wr*dT/T\n",
    "L1 = 1/((wr)**2*C) \n",
    "dL1 = L1*np.sqrt((2*dwr/wr)**2+(dC/C)**2)\n",
    "print('L1:', L1)\n",
    "print('dL1', dL1)\n",
    "\n",
    "Lambda = np.log(np.array([A[0]/A[1], A[1]/A[2], A[2]/A[3], A[3]/A[4]]))\n",
    "dLambda= dA*np.array([np.sqrt((1/A[0])**2+(1/A[1])**2), np.sqrt((1/A[1])**2+(1/A[2])**2), np.sqrt((1/A[2])**2+(1/A[3])**2), np.sqrt((1/A[3])**2+(1/A[4])**2)])\n",
    "print('Lambda:', Lambda)\n",
    "print('dLambda:', dLambda)\n",
    "\n",
    "delta = Lambda/T\n",
    "ddelta= delta*np.sqrt((dLambda/Lambda)**2+(dT/T)**2)\n",
    "\n",
    "Rges = delta*2*L1\n",
    "dRges = Rges*np.sqrt((ddelta/delta)**2+(dL1/L1)**2)\n",
    "\n",
    "Rv = Rges-R\n",
    "dRv= np.sqrt(dRges**2+dR**2)\n",
    "\n",
    "print('Rv:', Rv)\n",
    "print('dRv:', dRv)\n",
    "\n",
    "def fit_func(r1,r):\n",
    "    return r\n",
    "popt, pcov=curve_fit(fit_func,Rv,Rv,p0=[80],sigma=dRv)\n",
    "print(\"Mittelwert von Rv=\",popt[0],\", Standardfehler=\",np.sqrt(pcov[0][0]))"
   ]
  },
  {
   "cell_type": "code",
   "execution_count": 7,
   "metadata": {
    "collapsed": false,
    "scrolled": false
   },
   "outputs": [
    {
     "name": "stdout",
     "output_type": "stream",
     "text": [
      "Theoretisch: 21989.9748567 21451.3397158 22515.7281204\n",
      "Fehler:      1207.75398705 1459.45032372 1517.32715046\n",
      "Experimentell: 22619.46710584651 25384.068641005528 27331.856086231197\n",
      "Fehler:    1256.6370614359173 628.3185307179587 628.3185307179587\n",
      "Abweichung exp-theor für R 0.361168895377\n",
      "Abweichung exp-theor für c 2.47504039471\n",
      "Abweichung exp-theor für l 2.93259602846\n"
     ]
    }
   ],
   "source": [
    "#Aufgabe 6\n",
    "\n",
    "C    = 47*10**(-9)\n",
    "dC   = 0.1*C\n",
    "R    = 220 \n",
    "Rv   = 81 #Hier Wert aus Aufgabe 4 eintragen !\n",
    "Rges = R+Rv\n",
    "dRges= 0.05*Rges\n",
    "L1   = 0.044 #Hier Wert aus Aufgabe 4 eintragen !\n",
    "dL1  = 0.002 #Hier Wert aus Aufgabe 4 eintragen !\n",
    "\n",
    "delta = (Rges)/(2*L1)\n",
    "wr_theo = 1/np.sqrt(L1*C)\n",
    "dwr_theo= wr_theo*np.sqrt((dL1/(2*L1))**2+(dC/(2*C))**2)\n",
    "wc_theo = np.sqrt(wr_theo**2-2*delta**2)\n",
    "dwc_theo= 1/wc_theo*np.sqrt(((Rges**2/L1**3-1/(C*L1**2))*dL1)**2+(dC/(2*C**2*L1))**2+(Rges*dRges/(2*L**2))**2)\n",
    "wl_theo = np.sqrt(wr_theo**2+2*delta**2)\n",
    "dwl_theo= 1/wl_theo*np.sqrt(((Rges**2/L1**3+1/(C*L1**2))*dL1)**2+(dC/(2*C**2*L1))**2+(Rges*dRges/(2*L**2))**2)\n",
    "\n",
    "wr_ex = 2*np.pi*3.6*1000#Hier gemessene Werte der Frequenz f eintragen\n",
    "dwr_ex= wr_ex*0.2/3.6#Hier gemessene Werte der Frequenz f eintragen\n",
    "wc_ex = 2*np.pi*4.04*1000#Hier gemessene Werte der Frequenz f eintragen\n",
    "dwc_ex=wc_ex*0.1/4.04#Hier gemessene Werte der Frequenz f eintragen\n",
    "wl_ex = 2*np.pi*4.35*1000#Hier gemessene Werte der Frequenz f eintragen\n",
    "dwl_ex=wl_ex*0.1/4.35#Hier gemessene Werte der Frequenz f eintragen\n",
    "\n",
    "print('Theoretisch:', wr_theo, wc_theo, wl_theo)\n",
    "print('Fehler:     ', dwr_theo, dwc_theo, dwl_theo)\n",
    "print('Experimentell:',wr_ex, wc_ex, wl_ex)\n",
    "print('Fehler:   ', dwr_ex, dwc_ex, dwl_ex)\n",
    "abwrfreq_r = np.abs(wr_theo-wr_ex)/np.sqrt(dwr_theo**2+dwr_ex**2)\n",
    "abwrfreq_c = np.abs(wc_theo-wc_ex)/np.sqrt(dwc_theo**2+dwc_ex**2)\n",
    "abwrfreq_l = np.abs(wl_theo-wl_ex)/np.sqrt(dwl_theo**2+dwl_ex**2)\n",
    "print(\"Abweichung exp-theor für R\", abwrfreq_r)\n",
    "print(\"Abweichung exp-theor für c\", abwrfreq_c)\n",
    "print(\"Abweichung exp-theor für l\", abwrfreq_l)\n",
    "      "
   ]
  },
  {
   "cell_type": "code",
   "execution_count": 8,
   "metadata": {
    "collapsed": false,
    "scrolled": false
   },
   "outputs": [
    {
     "name": "stdout",
     "output_type": "stream",
     "text": [
      "Theoretisch: 21989.9748567 Fehler: 1207.75398705\n",
      "Experimentell: 22619.46710584651 Fehler: 628.3185307179587\n",
      "Abweichung 0.462380485255\n"
     ]
    }
   ],
   "source": [
    "#Aufgabe 7\n",
    "C = 47*10**(-9)\n",
    "R = 1000\n",
    "Rv= 66 #Aus AUfgabe 4 eintragen\n",
    "Rges = R+Rv\n",
    "dRges= 0.05*Rges\n",
    "L1   = 0.044 #Aus Aufgabe 4 eintragen\n",
    "dL1  = 0.002\n",
    "\n",
    "w_theo  = 1/np.sqrt(L1*C)\n",
    "dw_theo = w_theo*np.sqrt((dL1/(2*L1))**2+(dC/(2*C))**2)\n",
    "w_ex  = 2*np.pi*3.6*1000\n",
    "dw_ex = w_ex*0.1/3.6\n",
    "\n",
    "print('Theoretisch:', w_theo, 'Fehler:',dw_theo)\n",
    "print('Experimentell:',w_ex, 'Fehler:',dw_ex)\n",
    "print(\"Abweichung\", np.abs(w_theo-w_ex)/np.sqrt(dw_theo**2+dw_ex**2))"
   ]
  },
  {
   "cell_type": "code",
   "execution_count": 10,
   "metadata": {
    "collapsed": true,
    "scrolled": false
   },
   "outputs": [],
   "source": [
    "#Aufgabe 8\n",
    "\n",
    "#hauptsächlich diskutieren\n",
    "#siehe Auswertung"
   ]
  },
  {
   "cell_type": "code",
   "execution_count": null,
   "metadata": {
    "collapsed": false,
    "scrolled": false
   },
   "outputs": [],
   "source": []
  },
  {
   "cell_type": "code",
   "execution_count": null,
   "metadata": {
    "collapsed": true
   },
   "outputs": [],
   "source": []
  }
 ],
 "metadata": {
  "anaconda-cloud": {},
  "kernelspec": {
   "display_name": "Python [default]",
   "language": "python",
   "name": "python3"
  },
  "language_info": {
   "codemirror_mode": {
    "name": "ipython",
    "version": 3
   },
   "file_extension": ".py",
   "mimetype": "text/x-python",
   "name": "python",
   "nbconvert_exporter": "python",
   "pygments_lexer": "ipython3",
   "version": "3.5.2"
  }
 },
 "nbformat": 4,
 "nbformat_minor": 2
}
