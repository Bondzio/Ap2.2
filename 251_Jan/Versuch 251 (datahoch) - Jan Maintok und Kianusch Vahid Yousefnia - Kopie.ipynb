{
 "cells": [
  {
   "cell_type": "code",
   "execution_count": 2,
   "metadata": {
    "collapsed": true
   },
   "outputs": [],
   "source": [
    "%matplotlib inline\n",
    "import matplotlib.pyplot as plt\n",
    "import numpy as np"
   ]
  },
  {
   "cell_type": "code",
   "execution_count": 3,
   "metadata": {
    "collapsed": true
   },
   "outputs": [],
   "source": [
    "# Importieren und grafische Darstellung der Messwerte"
   ]
  },
  {
   "cell_type": "code",
   "execution_count": 4,
   "metadata": {
    "collapsed": true
   },
   "outputs": [],
   "source": [
    "#Zaehlrohrspannung\n",
    "U = np.arange(440, 620, 20)\n",
    "dU = 10\n",
    "#gezählte Ereignisse\n",
    "N = np.array([1750, 2277, 2304, 2372, 2343, 2325, 2384, 2394, 2317])\n",
    "dN = np.sqrt(N)"
   ]
  },
  {
   "cell_type": "code",
   "execution_count": 5,
   "metadata": {
    "collapsed": false
   },
   "outputs": [
    {
     "data": {
      "text/plain": [
       "<matplotlib.text.Text at 0x7f9b0228d8d0>"
      ]
     },
     "execution_count": 5,
     "metadata": {},
     "output_type": "execute_result"
    },
    {
     "data": {
      "image/png": "[encoded data removed]",
      "text/plain": [
       "<matplotlib.figure.Figure at 0x7f9b05892940>"
      ]
     },
     "metadata": {},
     "output_type": "display_data"
    }
   ],
   "source": [
    "plt.errorbar(U, N, yerr = dN, xerr=dU, fmt = '.')\n",
    "plt.xlabel('Spannung / V')\n",
    "plt.ylabel('Ereignisse')\n",
    "plt.title('Zählrohrcharakteristik')"
   ]
  },
  {
   "cell_type": "code",
   "execution_count": 6,
   "metadata": {
    "collapsed": true
   },
   "outputs": [],
   "source": [
    "from scipy.optimize import curve_fit\n",
    "def linear(x, a, b):\n",
    "    return a * x + b\n",
    "popt, pcov = curve_fit(linear, U[1:], N[1:])"
   ]
  },
  {
   "cell_type": "code",
   "execution_count": 7,
   "metadata": {
    "collapsed": false
   },
   "outputs": [
    {
     "data": {
      "image/png": "[encoded data removed]",
      "text/plain": [
       "<matplotlib.figure.Figure at 0x7f9b2ca06a58>"
      ]
     },
     "metadata": {},
     "output_type": "display_data"
    }
   ],
   "source": [
    "plt.errorbar(U, N, dN, fmt = '.')\n",
    "plt.xlabel('Spannung / V')\n",
    "plt.ylabel('Ereignisse')\n",
    "plt.xlim(400, 640)\n",
    "plt.title('Zählrohrstatistik')\n",
    "plt.plot(U, linear(U, *popt))\n",
    "plt.savefig('figures/Zaehlrohrstatistik.pdf', format = 'pdf', bbox_inches = 'tight')"
   ]
  },
  {
   "cell_type": "code",
   "execution_count": 8,
   "metadata": {
    "collapsed": false
   },
   "outputs": [
    {
     "name": "stdout",
     "output_type": "stream",
     "text": [
      "0.609874272345\n"
     ]
    }
   ],
   "source": [
    "chi2_ = np.sum((linear(U[1:], *popt)-N[1:])**2/dN[1:]**2)\n",
    "dof = len(U[1:]) - 2\n",
    "chi2_red = chi2_/dof\n",
    "print(chi2_red)"
   ]
  },
  {
   "cell_type": "code",
   "execution_count": 9,
   "metadata": {
    "collapsed": true
   },
   "outputs": [],
   "source": [
    "# Plateaubereich des Zählrohrs"
   ]
  },
  {
   "cell_type": "code",
   "execution_count": 10,
   "metadata": {
    "collapsed": false
   },
   "outputs": [
    {
     "name": "stdout",
     "output_type": "stream",
     "text": [
      "absoluter Anstieg: 265 +- 137.422705548\n",
      "0.518576247349\n",
      "Zeit bis 1%: 161352.794589\n",
      "Signifikanz des absoluten Anstiegs: 1.92835673657\n",
      "prozentualer Anstieg: 0.028464017185821696 +- 0.0149693645331\n",
      "prozentuale Variation bei 1-Sigma: 0.0149693645331\n",
      "prozentuale Variation bei 2-Sigma: 0.0299387290662\n",
      "Signifikanz des prozentualen Anstiegs: 1.90148467043\n"
     ]
    }
   ],
   "source": [
    "# 1 Minute\n",
    "n2 = 9575\n",
    "n1 = 9310\n",
    "t0 = 60\n",
    "print('absoluter Anstieg:',n2 - n1, '+-', np.sqrt(n1 + n2))\n",
    "p0 = np.sqrt(n1 + n2)/(n2 - n1)\n",
    "print(p0)\n",
    "t = t0 * p0**2/0.01**2\n",
    "print('Zeit bis 1%:',t)\n",
    "print('Signifikanz des absoluten Anstiegs:', 1/p0)\n",
    "rel = (n2 - n1)/n1\n",
    "fehler_rel = n2/n1*np.sqrt(1/n2 + 1/n1)\n",
    "print('prozentualer Anstieg:',rel, '+-', fehler_rel)\n",
    "print('prozentuale Variation bei 1-Sigma:', 1 * fehler_rel)\n",
    "print('prozentuale Variation bei 2-Sigma:',2 * fehler_rel)\n",
    "print('Signifikanz des prozentualen Anstiegs:', rel / fehler_rel)"
   ]
  },
  {
   "cell_type": "code",
   "execution_count": 53,
   "metadata": {
    "collapsed": false
   },
   "outputs": [
    {
     "name": "stdout",
     "output_type": "stream",
     "text": [
      "absoluter Anstieg: 373 +- 237.993697396\n",
      "Zeit bis 1%: 732800.494505\n",
      "Signifikanz des absoluten Anstiegs: 1.56726839442\n",
      "prozentualer Anstieg: 0.013257979668728229 +- 0.00851518306806\n",
      "prozentuale Variation bei 1-Sigma: 0.00851518306806\n",
      "prozentuale Variation bei 2-Sigma: 0.0170303661361\n",
      "Signifikanz des prozentualen Anstiegs: 1.55698116679\n"
     ]
    }
   ],
   "source": [
    "# 3 Minuten\n",
    "n2 = 28507\n",
    "n1 = 28134\n",
    "t0 = 180\n",
    "print('absoluter Anstieg:',n2 - n1, '+-', np.sqrt(n1 + n2))\n",
    "p0 = np.sqrt(n1 + n2)/(n2 - n1)\n",
    "t = t0 * p0**2/0.01**2\n",
    "print('Zeit bis 1%:',t)\n",
    "print('Signifikanz des absoluten Anstiegs:', 1/p0)\n",
    "rel = (n2 - n1)/n1\n",
    "fehler_rel = n2/n1*np.sqrt(1/n2 + 1/n1)\n",
    "print('prozentualer Anstieg:',rel, '+-', fehler_rel)\n",
    "print('prozentuale Variation bei 1-Sigma:', 1 * fehler_rel)\n",
    "print('prozentuale Variation bei 2-Sigma:',2 * fehler_rel)\n",
    "print('Signifikanz des prozentualen Anstiegs:', rel / fehler_rel)"
   ]
  },
  {
   "cell_type": "code",
   "execution_count": null,
   "metadata": {
    "collapsed": true
   },
   "outputs": [],
   "source": []
  },
  {
   "cell_type": "code",
   "execution_count": null,
   "metadata": {
    "collapsed": true
   },
   "outputs": [],
   "source": []
  },
  {
   "cell_type": "code",
   "execution_count": null,
   "metadata": {
    "collapsed": true
   },
   "outputs": [],
   "source": []
  },
  {
   "cell_type": "code",
   "execution_count": 54,
   "metadata": {
    "collapsed": true
   },
   "outputs": [],
   "source": [
    "# Auswertung der Daten mit hoher mittlerer Ereigniszahl"
   ]
  },
  {
   "cell_type": "code",
   "execution_count": 55,
   "metadata": {
    "collapsed": false
   },
   "outputs": [],
   "source": [
    "anzahl, haeufigkeit = np.loadtxt('data/datahoch.dat', unpack = True)\n",
    "fehler = np.sqrt(haeufigkeit)"
   ]
  },
  {
   "cell_type": "code",
   "execution_count": 56,
   "metadata": {
    "collapsed": false
   },
   "outputs": [
    {
     "data": {
      "text/plain": [
       "<matplotlib.text.Text at 0x81d3b70>"
      ]
     },
     "execution_count": 56,
     "metadata": {},
     "output_type": "execute_result"
    },
    {
     "data": {
      "image/png": "[encoded data removed]",
      "text/plain": [
       "<matplotlib.figure.Figure at 0x8159b38>"
      ]
     },
     "metadata": {},
     "output_type": "display_data"
    }
   ],
   "source": [
    "plt.errorbar(anzahl, haeufigkeit, fehler, fmt = '.')\n",
    "plt.xlabel('Anzahl der Zerfälle pro Zeiteinheit in 1/s')\n",
    "plt.ylabel('Häufigkeit')\n",
    "plt.title('Statistik des radioaktiven Zerfalls')\n",
    "#plt.yscale('log')"
   ]
  },
  {
   "cell_type": "code",
   "execution_count": 57,
   "metadata": {
    "collapsed": false
   },
   "outputs": [],
   "source": [
    "from numpy import exp, pi, sqrt\n",
    "def gaussian(x, A, mu, sig): # A: Fläche der Gauß-Funktion\n",
    "    return A/sqrt(2*pi)/sig * exp(-(x - mu)**2/2/sig**2)"
   ]
  },
  {
   "cell_type": "code",
   "execution_count": 58,
   "metadata": {
    "collapsed": false
   },
   "outputs": [],
   "source": [
    "popt, pcov = curve_fit(gaussian, anzahl[6:-8], haeufigkeit[6:-8], p0 = [2034, 78, 9], sigma = fehler[6:-8])"
   ]
  },
  {
   "cell_type": "code",
   "execution_count": 59,
   "metadata": {
    "collapsed": false
   },
   "outputs": [],
   "source": [
    "from scipy.special import gamma\n",
    "def poisson(x, A_p, mu_p):\n",
    "    return A_p * exp(-mu_p) * mu_p**x / gamma(x+1)\n",
    "popt_p, pcov_p = curve_fit(poisson, anzahl[6:-8], haeufigkeit[6:-8], p0 = [2000, 75], sigma = fehler[6:-8])"
   ]
  },
  {
   "cell_type": "code",
   "execution_count": 60,
   "metadata": {
    "collapsed": false
   },
   "outputs": [
    {
     "data": {
      "image/png": "[encoded data removed]",
      "text/plain": [
       "<matplotlib.figure.Figure at 0x82867b8>"
      ]
     },
     "metadata": {},
     "output_type": "display_data"
    }
   ],
   "source": [
    "plt.errorbar(anzahl, haeufigkeit, fehler, fmt = '.', label = 'Messung')\n",
    "plt.xlabel('Anzahl der Zerfälle pro Zeiteinheit in 1/s')\n",
    "plt.ylabel('Häufigkeit')\n",
    "plt.title('Statistik des radioaktiven Zerfalls')\n",
    "x = np.linspace(40, 110, 100)\n",
    "plt.plot(x, gaussian(x, *popt), label = 'Gauss')\n",
    "plt.plot(x, poisson(x, *popt_p), label = 'Poisson', linestyle = ':')\n",
    "plt.legend()\n",
    "plt.savefig('figures/poisson_vs_gaussian_hoch.pdf', format = 'pdf', bbox_inches = 'tight')"
   ]
  },
  {
   "cell_type": "code",
   "execution_count": 61,
   "metadata": {
    "collapsed": false
   },
   "outputs": [
    {
     "name": "stdout",
     "output_type": "stream",
     "text": [
      "Gaussfit:\n",
      "A =  2012.97411937 , Standardfehler =  38.2299493212\n",
      "mu =  78.3365895872 , Standardfehler =  0.173775228277\n",
      "sig =  8.76406652592 , Standardfehler =  0.142570983669\n",
      "Poissonfit: \n",
      "A_p =  2016.50956972 , Standardfehler =  36.612647722\n",
      "mu_p =  78.4418049816 , Standardfehler =  0.167804793761\n"
     ]
    }
   ],
   "source": [
    "print('Gaussfit:')\n",
    "print('A = ', popt[0], ', Standardfehler = ', np.sqrt(pcov[0][0]))\n",
    "print('mu = ', popt[1], ', Standardfehler = ', np.sqrt(pcov[1][1]))\n",
    "print('sig = ', popt[2], ', Standardfehler = ', np.sqrt(pcov[2][2]))\n",
    "print('Poissonfit: ')\n",
    "print('A_p = ', popt_p[0], ', Standardfehler = ', sqrt(pcov_p[0][0]))\n",
    "print('mu_p = ', popt_p[1], ', Standardfehler = ', sqrt(pcov_p[1][1]))"
   ]
  },
  {
   "cell_type": "code",
   "execution_count": 62,
   "metadata": {
    "collapsed": false
   },
   "outputs": [
    {
     "name": "stdout",
     "output_type": "stream",
     "text": [
      "chi2_g =  29.2479540819\n",
      "chi2_red_g =  0.713364733705\n",
      "chi2_p =  27.5558234706\n",
      "chi2_red_p =  0.656091035015\n"
     ]
    }
   ],
   "source": [
    "# Gauss:\n",
    "chi2_g = np.sum((gaussian(anzahl[6:-8], *popt) - haeufigkeit[6:-8])**2/fehler[6:-8]**2)\n",
    "dof_g = len(anzahl[6:-8]) - 3 #dof: degrees of freedom, Freiheitsgrade\n",
    "chi2_red_g = chi2_g / dof_g\n",
    "print('chi2_g = ', chi2_g)\n",
    "print('chi2_red_g = ', chi2_red_g)\n",
    "#Poisson:\n",
    "chi2_p = np.sum((poisson(anzahl[6:-8], *popt_p) - haeufigkeit[6:-8])**2/fehler[6:-8]**2)\n",
    "dof_p = len(anzahl[6:-8]) - 2 # poisson hat nur 2 Parameter\n",
    "chi2_red_p = chi2_p/dof_p\n",
    "print('chi2_p = ', chi2_p)\n",
    "print('chi2_red_p = ', chi2_red_p)"
   ]
  },
  {
   "cell_type": "code",
   "execution_count": 63,
   "metadata": {
    "collapsed": false
   },
   "outputs": [
    {
     "name": "stdout",
     "output_type": "stream",
     "text": [
      "Wahrscheinlichkeit Gauss =  91.0 %\n",
      "Wahrscheinlichkeit Poisson =  96.0 %\n"
     ]
    }
   ],
   "source": [
    "from scipy.stats import chi2\n",
    "# Gauss:\n",
    "prob_g = round(1 - chi2.cdf(chi2_g, dof_g), 2) * 100\n",
    "# Poisson:\n",
    "prob_p = round(1 - chi2.cdf(chi2_p, dof_p), 2) * 100\n",
    "print('Wahrscheinlichkeit Gauss = ', prob_g, '%')\n",
    "print('Wahrscheinlichkeit Poisson = ', prob_p, '%')"
   ]
  },
  {
   "cell_type": "code",
   "execution_count": null,
   "metadata": {
    "collapsed": true
   },
   "outputs": [],
   "source": []
  }
 ],
 "metadata": {
  "kernelspec": {
   "display_name": "Python 3",
   "language": "python",
   "name": "python3"
  },
  "language_info": {
   "codemirror_mode": {
    "name": "ipython",
    "version": 3
   },
   "file_extension": ".py",
   "mimetype": "text/x-python",
   "name": "python",
   "nbconvert_exporter": "python",
   "pygments_lexer": "ipython3",
   "version": "3.6.0"
  }
 },
 "nbformat": 4,
 "nbformat_minor": 2
}
